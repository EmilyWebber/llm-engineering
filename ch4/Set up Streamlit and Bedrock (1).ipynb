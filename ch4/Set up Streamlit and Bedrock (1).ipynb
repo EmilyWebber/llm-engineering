{
 "cells": [
  {
   "cell_type": "markdown",
   "id": "ca808445",
   "metadata": {},
   "source": [
    "# Run Streamlit and Bedrock on SageMaker notebook instance\n",
    "\n",
    "This notebook was built using the conda PyTorch 3.10 kernel on an `ml.t3.medium` instance."
   ]
  },
  {
   "cell_type": "markdown",
   "id": "b4d9dc81",
   "metadata": {},
   "source": [
    "### Step 1. Install Streamlit"
   ]
  },
  {
   "cell_type": "code",
   "execution_count": null,
   "id": "8530bd42",
   "metadata": {
    "scrolled": true
   },
   "outputs": [],
   "source": [
    "!pip install streamlit"
   ]
  },
  {
   "cell_type": "markdown",
   "id": "f87271af",
   "metadata": {},
   "source": [
    "### Step 2. Write a minimal Streamlit app with Python"
   ]
  },
  {
   "cell_type": "code",
   "execution_count": null,
   "id": "1a055581",
   "metadata": {},
   "outputs": [],
   "source": [
    "%%writefile language_app.py\n",
    "\n",
    "import streamlit as st\n",
    "\n",
    "def add_to_session_history(role, content):\n",
    "    st.session_state.messages.append({\"role\": role, \"content\": content})\n",
    "    \n",
    "\n",
    "# this adds a title to the application\n",
    "st.title('My first language application')\n",
    "\n",
    "# create a local list to hold the mesage history\n",
    "st.session_state.messages = []\n",
    "\n",
    "\n",
    "# this prints all the messages in the history\n",
    "for msg in st.session_state.messages:\n",
    "    with st.chat_message(msg['role']):\n",
    "        st.markdown(msg['content'])\n",
    "\n",
    "# this creates a template on the screen and a variable in the script\n",
    "prompt = st.chat_input('This is where you put your questions')\n",
    "\n",
    "if prompt:\n",
    "    \n",
    "    st.chat_message('user').markdown(prompt)\n",
    "\n",
    "#     st.session_state.messages.append({\"role\": \"user\", \"content\": prompt})\n",
    "    \n",
    "    add_to_session_history('user', prompt)\n",
    "    \n",
    "    res = f'I heard you say: {prompt}'\n",
    "    \n",
    "    with st.chat_message('assistant'):\n",
    "        st.markdown(res)\n",
    "        \n",
    "    add_to_session_history('assistant', res)\n",
    "\n",
    "    "
   ]
  },
  {
   "cell_type": "markdown",
   "id": "f388b55f",
   "metadata": {},
   "source": [
    "Remember, to view this in your SageMaker notebook instance you'll need to follow a few steps.\n",
    "1. Copy the url you see above for your notebook instance.\n",
    "2. After the `sagemaker.aws/` part of the url, add `proxy/8501`.\n",
    "3. Open a new tab in your web browswer, preferably one with a light background, and paste this in!\n",
    "4. Every time you modify this script, just remember to stop your Kernel and run the command again below."
   ]
  },
  {
   "cell_type": "code",
   "execution_count": null,
   "id": "1639a369",
   "metadata": {},
   "outputs": [],
   "source": [
    "!streamlit run language_app.py"
   ]
  },
  {
   "cell_type": "markdown",
   "id": "e2d8356b",
   "metadata": {},
   "source": [
    "### Step 3. Test your Bedrock connection\n",
    "Before continuing, make sure the IAM role you are using has access to Bedrock. Go do this now by updating the SageMaker execution role in the IAM console within AWS now if you don't already have this. Once you've added the relevant permissions, come back here and test the Bedrock connection."
   ]
  },
  {
   "cell_type": "code",
   "execution_count": null,
   "id": "3a6cda37",
   "metadata": {},
   "outputs": [],
   "source": [
    "import boto3\n",
    "import json\n",
    "\n",
    "bedrock_client = boto3.client('bedrock-runtime',region_name='us-east-1')"
   ]
  },
  {
   "cell_type": "markdown",
   "id": "4c07a707",
   "metadata": {},
   "source": [
    "Bedrock uses a `Messages` API, meaning it is explicitly looking for a list of messages in order to respond. This is helpful because it simplifies the development for chat!"
   ]
  },
  {
   "cell_type": "code",
   "execution_count": null,
   "id": "f4ccda95",
   "metadata": {},
   "outputs": [],
   "source": [
    "messages=[{ \"role\":'user', \n",
    "           \"content\":[{'type':'text',\n",
    "                       'text': \"What does it mean to train a language model?\"}]}]\n"
   ]
  },
  {
   "cell_type": "code",
   "execution_count": null,
   "id": "f7a1121d",
   "metadata": {},
   "outputs": [],
   "source": [
    "body=json.dumps(\n",
    "        {\n",
    "            \"max_tokens\": 512,\n",
    "            \"messages\": messages,\n",
    "            \"temperature\": 0.5,\n",
    "            \"top_p\": 1,\n",
    "            \"anthropic_version\": \"bedrock-2023-05-31\",    \n",
    "\n",
    "        }  \n",
    "    )  "
   ]
  },
  {
   "cell_type": "code",
   "execution_count": null,
   "id": "fd0fca0a",
   "metadata": {},
   "outputs": [],
   "source": [
    "response = bedrock_client.invoke_model(body=body, \n",
    "                                       modelId=\"anthropic.claude-3-sonnet-20240229-v1:0\")"
   ]
  },
  {
   "cell_type": "code",
   "execution_count": null,
   "id": "b6c8b8fc",
   "metadata": {},
   "outputs": [],
   "source": [
    "response_body = json.loads(response.get('body').read())"
   ]
  },
  {
   "cell_type": "code",
   "execution_count": null,
   "id": "e92a9424",
   "metadata": {
    "scrolled": true
   },
   "outputs": [],
   "source": [
    "response_body"
   ]
  },
  {
   "cell_type": "markdown",
   "id": "fc06440b",
   "metadata": {},
   "source": [
    "### Step 4. Connect Bedrock to Streamlit"
   ]
  },
  {
   "cell_type": "code",
   "execution_count": null,
   "id": "9e683ad0",
   "metadata": {},
   "outputs": [],
   "source": []
  }
 ],
 "metadata": {
  "kernelspec": {
   "display_name": "conda_pytorch_p310",
   "language": "python",
   "name": "conda_pytorch_p310"
  },
  "language_info": {
   "codemirror_mode": {
    "name": "ipython",
    "version": 3
   },
   "file_extension": ".py",
   "mimetype": "text/x-python",
   "name": "python",
   "nbconvert_exporter": "python",
   "pygments_lexer": "ipython3",
   "version": "3.10.14"
  }
 },
 "nbformat": 4,
 "nbformat_minor": 5
}
