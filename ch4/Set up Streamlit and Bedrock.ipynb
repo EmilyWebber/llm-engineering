{
 "cells": [
  {
   "cell_type": "markdown",
   "id": "ca808445",
   "metadata": {},
   "source": [
    "# Run Streamlit and Bedrock on SageMaker notebook instance\n",
    "\n",
    "This notebook was built using the conda PyTorch 3.10 kernel on an `ml.t3.medium` instance."
   ]
  },
  {
   "cell_type": "code",
   "execution_count": null,
   "id": "8530bd42",
   "metadata": {
    "scrolled": true
   },
   "outputs": [],
   "source": [
    "!pip install streamlit"
   ]
  },
  {
   "cell_type": "code",
   "execution_count": null,
   "id": "1a055581",
   "metadata": {},
   "outputs": [],
   "source": [
    "%%writefile language_app.py\n",
    "\n",
    "import streamlit as st\n",
    "\n",
    "def add_to_session_history(role, content):\n",
    "    st.session_state.messages.append({\"role\": role, \"content\": content})\n",
    "    \n",
    "\n",
    "# this adds a title to the application\n",
    "st.title('My first language application')\n",
    "\n",
    "# create a local list to hold the mesage history\n",
    "st.session_state.messages = []\n",
    "\n",
    "\n",
    "# this prints all the messages in the history\n",
    "for msg in st.session_state.messages:\n",
    "    with st.chat_message(msg['role']):\n",
    "        st.markdown(msg['content'])\n",
    "\n",
    "# this creates a template on the screen and a variable in the script\n",
    "prompt = st.chat_input('This is where you put your questions')\n",
    "\n",
    "if prompt:\n",
    "    \n",
    "    st.chat_message('user').markdown(prompt)\n",
    "\n",
    "    \n",
    "    add_to_session_history('user', prompt)\n",
    "    \n",
    "    res = f'I heard you say: {prompt}'\n",
    "    \n",
    "    with st.chat_message('assistant'):\n",
    "        st.markdown(res)\n",
    "        \n",
    "    add_to_session_history('assistant', res)\n",
    "\n",
    "    "
   ]
  },
  {
   "cell_type": "code",
   "execution_count": null,
   "id": "1639a369",
   "metadata": {},
   "outputs": [],
   "source": [
    "!streamlit run language_app.py"
   ]
  },
  {
   "cell_type": "code",
   "execution_count": null,
   "id": "6ca16b8d",
   "metadata": {},
   "outputs": [],
   "source": []
  }
 ],
 "metadata": {
  "kernelspec": {
   "display_name": "conda_pytorch_p310",
   "language": "python",
   "name": "conda_pytorch_p310"
  },
  "language_info": {
   "codemirror_mode": {
    "name": "ipython",
    "version": 3
   },
   "file_extension": ".py",
   "mimetype": "text/x-python",
   "name": "python",
   "nbconvert_exporter": "python",
   "pygments_lexer": "ipython3",
   "version": "3.10.14"
  }
 },
 "nbformat": 4,
 "nbformat_minor": 5
}
